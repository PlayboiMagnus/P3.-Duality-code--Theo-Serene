{
 "cells": [
  {
   "cell_type": "markdown",
   "metadata": {},
   "source": [
    "# Example: Solving a Linear Program\n",
    "\n",
    "Consider the following linear program:\n",
    "\n",
    "Maximize:\n",
    "$$ z = x_1 + 4x_2 + 2x_3 $$\n",
    "\n",
    "Subject to:\n",
    "\\[\n",
    "\\begin{aligned}\n",
    "    5x_1 + x_2 + 2x_3 &\\leq 145 \\\\\n",
    "    4x_1 + 8x_2 - 8x_3 &\\leq 260 \\\\\n",
    "    x_1 + x_2 + 4x_3 &\\leq 190 \\\\\n",
    "    x_1, x_2, x_3 &\\geq 0\n",
    "\\end{aligned}\n",
    "\\]\n"
   ]
  },
  {
   "cell_type": "markdown",
   "metadata": {},
   "source": [
    "# 1. Write the dual LP problem\n",
    "\n",
    "The dual LP problem:\n",
    "\n",
    "Minimize:\n",
    "$$ z = 145y_1 + 260y_2 + 190y_3 $$\n",
    "\n",
    "Subject to:\n",
    "\\[\n",
    "\\begin{aligned}\n",
    "    5y_1 + 4y_2 + y_3 &\\geq 1 \\\\\n",
    "    2y_1 + 8y_2 + y_3 &\\geq 4 \\\\\n",
    "    2y_1 - 8y_2 + 4y_3 &\\geq 2 \\\\\n",
    "    y_1, y_2, y_3 &\\geq 0\n",
    "\\end{aligned}\n",
    "\\]\n"
   ]
  },
  {
   "cell_type": "code",
   "execution_count": 4,
   "metadata": {},
   "outputs": [
    {
     "name": "stdout",
     "output_type": "stream",
     "text": [
      "Step 1 verified\n",
      "Step 2 verified\n",
      "Step 3 verified\n"
     ]
    }
   ],
   "source": [
    "# 2. Verify that  $Q=(x_1,x_2,x_3)=(0,52.5,20)$ is a feasible solution for the primal\n",
    "Q = [0,52.5,20]\n",
    "def verifyfeasibility(Q):\n",
    "    Step1 = 5*Q[0]+2*Q[1]+2*Q[2]\n",
    "    Step2 = 4*Q[0]+8*Q[1]-8*Q[2]\n",
    "    Step3 = Q[0]+Q[1]+4*Q[2]\n",
    "    if(Step1<=145):\n",
    "        print(\"Step 1 verified\")\n",
    "    else:\n",
    "        print(\"Step 1 NOT verified: \", Step1, \"> 145\")\n",
    "    if(Step2<=260):\n",
    "        print(\"Step 2 verified\")\n",
    "    else:\n",
    "        print(\"Step 2 NOT verified: \", Step2, \"> 260\")\n",
    "    if(Step3 <= 190):\n",
    "        print(\"Step 3 verified\")\n",
    "    else:\n",
    "        print(\"Step 3 NOT verified: \", Step3, \"> 190\")\n",
    "\n",
    "verifyfeasibility(Q)"
   ]
  },
  {
   "cell_type": "markdown",
   "metadata": {},
   "source": [
    "# 3. Use CS to determine a candidate solution to the dual.\n",
    "\n",
    "Complementary slackness on the primal:\n",
    "\n",
    "Maximize:\n",
    "$$ z = x_1 + 4x_2 + 2x_3 $$\n",
    "\n",
    "Subject to:\n",
    "\\[\n",
    "\\begin{aligned}\n",
    "    5x_1 + x_2 + 2x_3 + s_1 = 145 \\\\\n",
    "    4x_1 + 8x_2 - 8x_3 + s_2 = 260 \\\\\n",
    "    x_1 + x_2 + 4x_3 +s_3 = 190 \\\\\n",
    "    x_1, x_2, x_3 &\\geq 0\n",
    "\\end{aligned}\n",
    "\\]\n",
    "\n",
    "So then for the dual this means:\n",
    "\n",
    "Minimize:\n",
    "$$ z = 145y_1 + 260y_2 + 190y_3 $$\n",
    "\n",
    "Subject to:\n",
    "\\[\n",
    "\\begin{aligned}\n",
    "    5y_1 + 4y_2 + y_3 = 1 \\\\\n",
    "    2y_1 + 8y_2 + y_3 = 4 \\\\\n",
    "    2y_1 - 8y_2 + 4y_3 = 2 \\\\\n",
    "    y_1, y_2, y_3 &\\geq 0\n",
    "\\end{aligned}\n",
    "\\]\n",
    "\n",
    "We now have to resolve the inequations:\n",
    "\n",
    "1st equation:\n",
    "$$\n",
    "5y_1 + 4y_2 + y_3 = 1 \\quad \\Rightarrow \\quad y_3 = 1 -5y_1 - 4y_2\n",
    "$$\n",
    "We replace it in the second equation:\n",
    "$$\n",
    "\\begin{aligned}\n",
    "2y_1 + 8y_2 + y_3 = 4 \\quad \\Rightarrow \\quad 2y_1 + 8y_2 + 1 - 5y_1 - 4y_2 = 4 \\\\\n",
    "= 1 - 3y_1 + 4y_2 = 4 \\\\\n",
    "\\Rightarrow \\quad y_2 = 3/4 + 3/4y_1\n",
    "\\end{aligned}\n",
    "$$\n",
    "\n",
    "We can now use it in the third equation:\n",
    "$$\n",
    "\\begin{aligned}\n",
    "2y_1 - 8y_2 + 4y_3 = 2 \\quad \\Rightarrow \\quad 2y_1 - 8*3/4(1 + y_1) + 4(- 2 - 8y_1) = 2 \\\\\n",
    "= - 14 - 36y_1 = 2 \\\\\n",
    "\\Rightarrow \\quad y_1 = -16/36\n",
    "\\end{aligned}\n",
    "$$\n",
    "So:\n",
    "$$ y_1 = -16/36 , y_2 = 5/12 , y_3 = 14/9 $$\n",
    "\n",
    "As we can see, it seems that Q is NOT the optimal solution for the Dual problem\n",
    "\n"
   ]
  }
 ],
 "metadata": {
  "kernelspec": {
   "display_name": "base",
   "language": "python",
   "name": "python3"
  },
  "language_info": {
   "codemirror_mode": {
    "name": "ipython",
    "version": 3
   },
   "file_extension": ".py",
   "mimetype": "text/x-python",
   "name": "python",
   "nbconvert_exporter": "python",
   "pygments_lexer": "ipython3",
   "version": "3.11.7"
  }
 },
 "nbformat": 4,
 "nbformat_minor": 2
}
